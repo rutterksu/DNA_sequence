{
 "cells": [
  {
   "cell_type": "code",
   "execution_count": 157,
   "metadata": {},
   "outputs": [],
   "source": [
    "import glob"
   ]
  },
  {
   "cell_type": "code",
   "execution_count": 158,
   "metadata": {},
   "outputs": [],
   "source": [
    "dna = open('dna_sequence.txt').read().split('\\n') # read data from text file, which must be stored in same folder as the python "
   ]
  },
  {
   "cell_type": "code",
   "execution_count": 159,
   "metadata": {},
   "outputs": [],
   "source": [
    "# Clean the dna data\n",
    "dna = dna[8:] # removes the header rows from the data and save as a list named 'dna'\n",
    "\n",
    "dna_string = str.upper(\"\".join(dna)) # joins the elements of the 'dna' list and saves as a new string, 'dna_string'"
   ]
  },
  {
   "cell_type": "code",
   "execution_count": 187,
   "metadata": {},
   "outputs": [],
   "source": [
    "# create function to find complementary base pairs\n",
    "\n",
    "def dnamatching(dna_string):\n",
    "    \n",
    "    pairs = [] # an empty list to which complimetary bases will be assigned\n",
    "    \n",
    "    for i, letter in enumerate(dna_string):\n",
    "        \n",
    "#        if dna_string[i] != \"A\" or \"T\" or \"G\" or \"C\" :\n",
    "            \n",
    "#            break # If ith letter of input data is not A, T, G, or C, then exit the loop\n",
    "        \n",
    "        if dna_string[i] == \"A\":\n",
    "            \n",
    "            list.insert(pairs, i, \"T\") # if the ith letter of 'dna_string' is an \"A\", then assign \"T\" to ith index of 'pairs' list\n",
    "        \n",
    "        elif dna_string[i] == \"T\":\n",
    "            \n",
    "            list.insert(pairs, i, \"A\") # if the above is not true, AND the ith letter of 'dna_string' is a \"T\", then assign \"A\" to ith index of 'pairs' list\n",
    "        \n",
    "        elif dna_string[i] == \"G\":\n",
    "            \n",
    "            list.insert(pairs, i, \"C\") # if the above is not true, AND the ith letter of 'dna_string' is a \"G\", then assign \"C\" to ith index of 'pairs' list\n",
    "        \n",
    "        else:\n",
    "            list.insert(pairs, i, \"G\") # if the above is not true, AND the ith letter of 'dna_string' is a \"C\", then assign \"G\" to ith index of 'pairs' list\n",
    "        \n",
    "    return \"\".join(pairs) # return 'pairs' list as a string"
   ]
  },
  {
   "cell_type": "markdown",
   "metadata": {},
   "source": [
    "# Extra stuff"
   ]
  },
  {
   "cell_type": "code",
   "execution_count": 188,
   "metadata": {},
   "outputs": [
    {
     "data": {
      "text/plain": [
       "5028"
      ]
     },
     "execution_count": 188,
     "metadata": {},
     "output_type": "execute_result"
    }
   ],
   "source": [
    "# Function output validation\n",
    "dna_out = dnamatching(dna_string)\n",
    "len(dna_out)"
   ]
  },
  {
   "cell_type": "code",
   "execution_count": 189,
   "metadata": {},
   "outputs": [
    {
     "name": "stdout",
     "output_type": "stream",
     "text": [
      "Input base pairs = {'G', 'C', 'A', 'T'}\n",
      "Output base pairs = {'T', 'G', 'A', 'C'}\n",
      "Input string length = 5028\n",
      "Output string length = 5028\n"
     ]
    }
   ],
   "source": [
    "print(\"Input base pairs\", \" = \", set(dna_string), \"\\n\",\n",
    "      \"Output base pairs\", \" = \", set(dna_out), \"\\n\",\n",
    "      \"Input string length\", \" = \", len(dna_string), \"\\n\",\n",
    "      \"Output string length\", \" = \", len(dna_out), sep = \"\")"
   ]
  },
  {
   "cell_type": "code",
   "execution_count": null,
   "metadata": {},
   "outputs": [],
   "source": []
  }
 ],
 "metadata": {
  "kernelspec": {
   "display_name": "Python 3",
   "language": "python",
   "name": "python3"
  },
  "language_info": {
   "codemirror_mode": {
    "name": "ipython",
    "version": 3
   },
   "file_extension": ".py",
   "mimetype": "text/x-python",
   "name": "python",
   "nbconvert_exporter": "python",
   "pygments_lexer": "ipython3",
   "version": "3.7.4"
  }
 },
 "nbformat": 4,
 "nbformat_minor": 4
}
