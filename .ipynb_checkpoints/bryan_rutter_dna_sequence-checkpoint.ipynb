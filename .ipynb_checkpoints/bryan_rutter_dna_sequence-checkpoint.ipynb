{
 "cells": [
  {
   "cell_type": "code",
   "execution_count": 1,
   "metadata": {},
   "outputs": [],
   "source": [
    "import glob"
   ]
  },
  {
   "cell_type": "code",
   "execution_count": 2,
   "metadata": {},
   "outputs": [],
   "source": [
    "# Import the DNA data\n",
    "dna_raw = open('dna_sequence.txt').read().split('\\n') # read data from text file, which must be stored in same folder as the python "
   ]
  },
  {
   "cell_type": "code",
   "execution_count": 3,
   "metadata": {},
   "outputs": [],
   "source": [
    "# Clean the DNA data\n",
    "\n",
    "dna_clean = dna_raw[8:] # removes the header rows from the data and save as a list named 'dna_clean'\n",
    "\n",
    "dna_string = \"\".join(dna_clean) # joins the elements of the 'dna' list and saves as a new string: 'dna_string'"
   ]
  },
  {
   "cell_type": "code",
   "execution_count": 114,
   "metadata": {},
   "outputs": [],
   "source": [
    "# create function to find complementary base pairs\n",
    "\n",
    "def dnamatching(dna_in):\n",
    "    \n",
    "    \"\"\"Summary of dnamatching function:\n",
    "    \n",
    "    Args:\n",
    "    dna_in (str): A string of DNA base pairs (e.g. TAGGCTA) from 3' to 5' positions\n",
    "    \n",
    "    Returns:\n",
    "    dna_out (str): The string of DNA base pairs complimentary to the input from 5' to 3' positions  \n",
    "    \"\"\"\n",
    "    \n",
    "    dna_in = str.upper(dna_in) # converts input string values to upper-case\n",
    "    \n",
    "    dna_out = [] # an empty list to which complimentary bases will be assigned\n",
    "    \n",
    "    for i in range(len(dna_in)):\n",
    "\n",
    "        if dna_in[i] != \"A\" and dna_in[i] != \"T\" and dna_in[i] != \"G\" and dna_in[i] != \"C\": # Check if characters from DNA input data match known base pairs\n",
    "    \n",
    "            print(\"Error: Unsupported character\", ' \"', dna_in[i], '\" ', \"at position \", i,  sep = \"\") # print error statement if elements of input data are not 'A', 'T', 'G' or 'C'..\n",
    "            break # ... and break the loop\n",
    "    \n",
    "        elif dna_in[i] == \"A\":\n",
    "            list.insert(dna_out, i, \"T\") # if the ith element of \"dna_in\" is \"A\" then assign \"T\" to the ith element of \"dna_out\"\n",
    "        \n",
    "        elif dna_in[i] == \"T\":\n",
    "            list.insert(dna_out, i, \"A\") # if the ith element of \"dna_in\" is \"T\" then assign \"A\" to the ith element of \"dna_out\"\n",
    "        \n",
    "        elif dna_in[i] == \"C\":\n",
    "            list.insert(dna_out, i, \"G\") # if the ith element of \"dna_in\" is \"C\" then assign \"G\" to the ith element of \"dna_out\"\n",
    "        \n",
    "        elif dna_in[i] == \"G\":\n",
    "            list.insert(dna_out, i ,\"C\") # if the ith element of \"dna_in\" is \"G\" then assign \"C\" to the ith element of \"dna_out\"\n",
    "        \n",
    "    return \"\".join(dna_out) # join elements from the 'pairs' list and return them as a string"
   ]
  },
  {
   "cell_type": "markdown",
   "metadata": {},
   "source": [
    "# Other stuff"
   ]
  },
  {
   "cell_type": "code",
   "execution_count": 117,
   "metadata": {},
   "outputs": [],
   "source": [
    "# Function output validation\n",
    "\n",
    "dna_test = dnamatching(dna_string) # save output from 'dna_matching' to a new variable \"dna_test\""
   ]
  },
  {
   "cell_type": "code",
   "execution_count": 118,
   "metadata": {},
   "outputs": [
    {
     "name": "stdout",
     "output_type": "stream",
     "text": [
      "Set of unique elements in input: {'T', 'C', 'G', 'A'}\n",
      "Set of unique elements in output: {'T', 'C', 'G', 'A'}\n",
      "Input string length = 5028\n",
      "Output string length = 5028\n"
     ]
    }
   ],
   "source": [
    "# Check that input and output strings are same length and have the same set (not order!) of unique elements\n",
    "\n",
    "print(\"Set of unique elements in input\", \": \", set(dna_string), \"\\n\", # prints unique elements from input data to console\n",
    "      \"Set of unique elements in output\", \": \", set(dna_test), \"\\n\", # prints unique elements from output data to console\n",
    "      \"Input string length\", \" = \", len(dna_string), \"\\n\", # prints length of input string to console\n",
    "      \"Output string length\", \" = \", len(dna_test), sep = \"\") # prints length of input string to console"
   ]
  },
  {
   "cell_type": "code",
   "execution_count": 121,
   "metadata": {},
   "outputs": [],
   "source": [
    "test_str = \"tAcggcTAAGGGGCCCTATATATCG3GCTA\" # this is one of the strings I used to check my function works with a different string"
   ]
  },
  {
   "cell_type": "code",
   "execution_count": 122,
   "metadata": {},
   "outputs": [
    {
     "name": "stdout",
     "output_type": "stream",
     "text": [
      "Error: Unsupported character \"3\" at position 25\n"
     ]
    },
    {
     "data": {
      "text/plain": [
       "'ATGCCGATTCCCCGGGATATATAGC'"
      ]
     },
     "execution_count": 122,
     "metadata": {},
     "output_type": "execute_result"
    }
   ],
   "source": [
    "dnamatching(test_str)"
   ]
  }
 ],
 "metadata": {
  "kernelspec": {
   "display_name": "Python 3",
   "language": "python",
   "name": "python3"
  },
  "language_info": {
   "codemirror_mode": {
    "name": "ipython",
    "version": 3
   },
   "file_extension": ".py",
   "mimetype": "text/x-python",
   "name": "python",
   "nbconvert_exporter": "python",
   "pygments_lexer": "ipython3",
   "version": "3.7.4"
  }
 },
 "nbformat": 4,
 "nbformat_minor": 4
}
