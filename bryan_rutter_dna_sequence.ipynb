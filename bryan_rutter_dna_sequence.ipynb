{
 "cells": [
  {
   "cell_type": "code",
   "execution_count": 1,
   "metadata": {},
   "outputs": [],
   "source": [
    "import glob"
   ]
  },
  {
   "cell_type": "code",
   "execution_count": 2,
   "metadata": {},
   "outputs": [],
   "source": [
    "dna_raw = open('dna_sequence.txt').read().split('\\n') # read data from text file, which must be stored in same folder as the python "
   ]
  },
  {
   "cell_type": "code",
   "execution_count": 3,
   "metadata": {},
   "outputs": [],
   "source": [
    "# Clean the dna data\n",
    "dna_clean = dna_raw[8:] # removes the header rows from the data and save as a list named 'dna'\n",
    "\n",
    "dna_string = str.upper(\"\".join(dna_clean)) # joins the elements of the 'dna' list and saves as a new string, 'dna_string'"
   ]
  },
  {
   "cell_type": "code",
   "execution_count": 8,
   "metadata": {},
   "outputs": [],
   "source": [
    "# create function to find complementary base pairs\n",
    "\n",
    "def dnamatching(dna_in):\n",
    "    \"\"\"Summary of dnamatching function:\n",
    "    \n",
    "    Args:\n",
    "    dna_in (str): A string of DNA base pairs (e.g. TAGGCTA) from 3' to 5' positions\n",
    "    \n",
    "    Returns:\n",
    "    dna_out (str): The string of DNA base pairs complimentary to the input from 5' to 3' positions\n",
    "        \n",
    "    \"\"\"\n",
    "    \n",
    "    dna_out = [] # an empty list to which complimentary bases will be assigned\n",
    "    \n",
    "    for i in range(len(dna_in)):\n",
    "\n",
    "        if dna_in[i] != \"A\" and dna_in[i] != \"T\" and dna_in[i] != \"G\" and dna_in[i] != \"C\": # Check if characters from DNA input data match known base pairs\n",
    "    \n",
    "            print(\"Error: Unsupported character\", ' \"', str(dna_in[i]),'\" ', sep = \"\") # print error statement if elements of input data are not 'A', 'T', 'G' or 'C'..\n",
    "            break # ... and break the loop\n",
    "    \n",
    "        elif dna_in[i] == \"A\":\n",
    "            list.insert(dna_out, i, \"T\") # if the ith element of \"dna_in\" is \"A\" then assign \"T\" to the ith element of \"dna_out\"\n",
    "        \n",
    "        elif dna_in[i] == \"T\":\n",
    "            list.insert(dna_out, i, \"A\") # if the ith element of \"dna_in\" is \"T\" then assign \"A\" to the ith element of \"dna_out\"\n",
    "        \n",
    "        elif dna_in[i] == \"C\":\n",
    "            list.insert(dna_out, i, \"G\") # if the ith element of \"dna_in\" is \"C\" then assign \"G\" to the ith element of \"dna_out\"\n",
    "        \n",
    "        elif dna_in[i] == \"G\":\n",
    "            list.insert(dna_out, i ,\"C\") # if the ith element of \"dna_in\" is \"G\" then assign \"C\" to the ith element of \"dna_out\"\n",
    "        \n",
    "    return \"\".join(dna_out) # join elements from the 'pairs' list and return them as a string"
   ]
  },
  {
   "cell_type": "markdown",
   "metadata": {},
   "source": [
    "# Extra stuff"
   ]
  },
  {
   "cell_type": "code",
   "execution_count": 5,
   "metadata": {},
   "outputs": [
    {
     "data": {
      "text/plain": [
       "5028"
      ]
     },
     "execution_count": 5,
     "metadata": {},
     "output_type": "execute_result"
    }
   ],
   "source": [
    "# Function output validation\n",
    "dna_out = dnamatching(dna_string)\n",
    "len(dna_out)"
   ]
  },
  {
   "cell_type": "code",
   "execution_count": 7,
   "metadata": {},
   "outputs": [
    {
     "name": "stdout",
     "output_type": "stream",
     "text": [
      "Input base pairs = {'T', 'C', 'G', 'A'}\n",
      "Output base pairs = {'T', 'C', 'G', 'A'}\n",
      "Input string length = 5028\n",
      "Output string length = 5028\n"
     ]
    }
   ],
   "source": [
    "print(\"Input base pairs\", \" = \", set(dna_string), \"\\n\",\n",
    "      \"Output base pairs\", \" = \", set(dna_out), \"\\n\",\n",
    "      \"Input string length\", \" = \", len(dna_string), \"\\n\",\n",
    "      \"Output string length\", \" = \", len(dna_out), sep = \"\")"
   ]
  },
  {
   "cell_type": "code",
   "execution_count": null,
   "metadata": {},
   "outputs": [],
   "source": []
  }
 ],
 "metadata": {
  "kernelspec": {
   "display_name": "Python 3",
   "language": "python",
   "name": "python3"
  },
  "language_info": {
   "codemirror_mode": {
    "name": "ipython",
    "version": 3
   },
   "file_extension": ".py",
   "mimetype": "text/x-python",
   "name": "python",
   "nbconvert_exporter": "python",
   "pygments_lexer": "ipython3",
   "version": "3.7.4"
  }
 },
 "nbformat": 4,
 "nbformat_minor": 4
}
